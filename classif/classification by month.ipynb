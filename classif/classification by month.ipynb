{
 "cells": [
  {
   "cell_type": "code",
   "execution_count": 1,
   "metadata": {},
   "outputs": [],
   "source": [
    "import sys \n",
    "sys.path.append(\"..\")"
   ]
  },
  {
   "cell_type": "code",
   "execution_count": 28,
   "metadata": {},
   "outputs": [],
   "source": [
    "import umap\n",
    "import operator\n",
    "import shap\n",
    "from xgboost import XGBClassifier\n",
    "import itertools\n",
    "import numpy as np\n",
    "import pandas as pd\n",
    "import matplotlib.pyplot as plt\n",
    "from sklearn.model_selection import train_test_split, GridSearchCV, cross_val_score\n",
    "from sklearn.ensemble import RandomForestClassifier\n",
    "from sklearn.linear_model import LogisticRegression\n",
    "from sklearn.tree import DecisionTreeClassifier\n",
    "from sklearn.ensemble import GradientBoostingClassifier, AdaBoostClassifier\n",
    "from sklearn.metrics import accuracy_score, confusion_matrix, classification_report\n",
    "from sklearn.decomposition import PCA\n",
    "from keras.models import Model\n",
    "from keras.layers import Input, Dense, Dropout\n",
    "from ksvd import ApproximateKSVD\n",
    "from sklearn.preprocessing import StandardScaler\n",
    "from sklearn.pipeline import Pipeline\n",
    "from comon import creatMas, plot_ssp, creat_data_month\n",
    "from plots_report import plot_metrics"
   ]
  },
  {
   "cell_type": "code",
   "execution_count": 3,
   "metadata": {},
   "outputs": [],
   "source": [
    "ocean = 'BarentsSea'"
   ]
  },
  {
   "cell_type": "code",
   "execution_count": 4,
   "metadata": {},
   "outputs": [],
   "source": [
    "files = ['CZ1.txt', 'CZ2.txt', 'CZ3.txt', 'CZ4.txt','CZ5.txt', 'CZ6.txt',\n",
    "         'CZ7.txt','CZ8.txt','CZ9.txt','CZ10.txt', 'CZ11.txt','CZ12.txt']\n",
    "\n",
    "CZ = []\n",
    "for file in files:\n",
    "    with open('{0}/{1}'.format(ocean, file), 'r') as f:\n",
    "        line = f.readlines()\n",
    "        cz=creatMas(line)\n",
    "    CZ.append(cz)\n",
    "    \n",
    "_, N_cord = cz.shape\n",
    "\n",
    "with open('{}/zs.txt'.format(ocean), 'r') as f:\n",
    "    line = f.readlines()\n",
    "    line.remove(line[N_cord])\n",
    "zs = [-int(a) for a in line]"
   ]
  },
  {
   "cell_type": "code",
   "execution_count": 5,
   "metadata": {},
   "outputs": [],
   "source": [
    "def AEncoder(input_dim, latent_dim):\n",
    "    hidden_layer = int(input_dim * 0.8)\n",
    "    \n",
    "    inputs = Input(shape=(input_dim,))\n",
    "    inp_layar1 = Dense(hidden_layer, activation='softplus',kernel_initializer='he_normal')(inputs)\n",
    "    #np_layar1 = Dropout(0.1)(inp_layar1)\n",
    "    \n",
    "    encoded = Dense(latent_dim, activation='softplus', kernel_initializer='he_normal')(inp_layar1)\n",
    "    \n",
    "    dec_lay = Dense(hidden_layer,activation='linear', kernel_initializer='he_normal')(encoded)\n",
    "    #dec_lay = Dropout(0.1)(dec_lay)\n",
    "    decoded = Dense(input_dim,activation='linear', kernel_initializer='he_normal')(dec_lay)\n",
    "    \n",
    "    autoencoder = Model(inputs, decoded)\n",
    "    encoder = Model(inputs, encoded)\n",
    "    \n",
    "    autoencoder = Model(inputs, decoded)\n",
    "    autoencoder.compile(optimizer='adam', loss='mse')\n",
    "    return autoencoder, encoder"
   ]
  },
  {
   "cell_type": "code",
   "execution_count": 6,
   "metadata": {},
   "outputs": [],
   "source": [
    "def researcher_pca(CLF,X_train, Y_train, X_test, Y_test, n_comp=[3,5,7,10]):\n",
    "    scores = []\n",
    "    for n in n_comp:\n",
    "        dec = PCA(n_components=n)\n",
    "        clf = CLF()\n",
    "        pipe = Pipeline([('dec', dec), ('clf', clf)])\n",
    "        pipe.fit(X_train, Y_train)\n",
    "        predict = pipe.predict(X_test)\n",
    "        score = accuracy_score(Y_test, predict)\n",
    "        scores.append(score)\n",
    "    return scores\n",
    "\n",
    "\n",
    "\n",
    "def researcher_ksvd(CLF, X_train, Y_train, X_test, Y_test, n_comp=[3,5,7,10]):\n",
    "    scores = []\n",
    "    for n in n_comp:\n",
    "        ksvd = ApproximateKSVD(n_components=n, transform_n_nonzero_coefs=n//2)\n",
    "        meantr = np.mean(X_train,axis=0)\n",
    "        dictionary = ksvd.fit(X_train - meantr).components_\n",
    "        gamma_train = ksvd.transform(X_train - meantr)\n",
    "        gamma_test = ksvd.transform(X_test - meantr)\n",
    "        \n",
    "        clf = CLF()\n",
    "        clf.fit(gamma_train, Y_train)\n",
    "        predict = clf.predict(gamma_test)\n",
    "        score = accuracy_score(Y_test, predict)\n",
    "        scores.append(score)\n",
    "    return scores\n",
    "\n",
    "\n",
    "def researcher_ae(CLF, X_train, Y_train, X_test, Y_test, n_comp=[3,5,7,10]):\n",
    "    scores = []\n",
    "    scaler = StandardScaler()\n",
    "    X_train_std = scaler.fit_transform(X_train)\n",
    "    X_test_std = scaler.transform(X_test)\n",
    "    for n in n_comp:\n",
    "        autoencoder_std, encoder_std = AEncoder(N_cord, n)\n",
    "        autoencoder_std.fit(X_train_std, X_train_std,\n",
    "                epochs=750,\n",
    "                batch_size=64,\n",
    "                shuffle=True, verbose=0)\n",
    "          \n",
    "        test_embedding = encoder_std.predict(X_test_std)\n",
    "        train_embedding = encoder_std.predict(X_train_std)\n",
    "        \n",
    "        clf = CLF()\n",
    "        clf.fit(train_embedding, Y_train)\n",
    "        predict = clf.predict(test_embedding)\n",
    "        score = accuracy_score(Y_test, predict)\n",
    "        scores.append(score)\n",
    "    return scores"
   ]
  },
  {
   "cell_type": "code",
   "execution_count": 7,
   "metadata": {},
   "outputs": [],
   "source": [
    "def plot_confusion_matrix(cm, classes=['winter', 'summer'],\n",
    "                          title='Confusion matrix',\n",
    "                          cmap=plt.cm.Blues):\n",
    "    plt.imshow(cm, interpolation='nearest', cmap=cmap)\n",
    "    plt.title(title)\n",
    "    tick_marks = np.arange(len(classes))\n",
    "    plt.xticks(tick_marks, classes, rotation=45)\n",
    "    plt.yticks(tick_marks, classes)\n",
    "\n",
    "    thresh = cm.max() / 2.\n",
    "    for i, j in itertools.product(range(cm.shape[0]), range(cm.shape[1])):\n",
    "        plt.text(j, i, format(cm[i, j], 'd'),\n",
    "                 horizontalalignment=\"center\",\n",
    "                 color=\"white\" if cm[i, j] > thresh else \"black\")\n",
    "\n",
    "    plt.ylabel('True label')\n",
    "    plt.xlabel('Predicted label')\n",
    "    plt.tight_layout()\n",
    "    plt.show()\n",
    "\n",
    "def print_metrics(clf, X_train, X_test, y_train, y_test):\n",
    "    predict_train = clf.predict(X_train)\n",
    "    predict_test = clf.predict(X_test)\n",
    "    print('Accuracy на тренировочных данных: {}'.format(accuracy_score(y_train, predict_train)))\n",
    "    print('Accuracy на тестовых данных: {}'.format(accuracy_score(y_test, predict_test)))\n",
    "    \n",
    "    plot_confusion_matrix(confusion_matrix(y_train, predict_train), title='Confusion matrix для обучающих данных')\n",
    "    plot_confusion_matrix(confusion_matrix(y_test, predict_test), title='Confusion matrix для тестовых данных')\n",
    "    \n",
    "def feature_importances(clf, size = (10,12), title_x = 'Важность координаты', title_y = 'Глубина', zs = zs):\n",
    "    fi = clf.feature_importances_\n",
    "    x = range(1,len(fi)+1)\n",
    "    plt.figure(figsize=size)\n",
    "    plt.barh(x, fi)\n",
    "    plt.xlabel(title_x)\n",
    "    plt.ylabel(title_y)\n",
    "    plt.yticks(x,list(map(str,zs)))\n",
    "    plt.show()"
   ]
  },
  {
   "cell_type": "code",
   "execution_count": 44,
   "metadata": {},
   "outputs": [],
   "source": [
    "X, Y = creat_data_month(CZ)\n",
    "X = pd.DataFrame(X, columns=zs)\n",
    "X_train, X_test, y_train, y_test = train_test_split(X, Y, shuffle=True, test_size=0.2, stratify=Y, random_state=0)"
   ]
  },
  {
   "cell_type": "code",
   "execution_count": 45,
   "metadata": {},
   "outputs": [
    {
     "name": "stdout",
     "output_type": "stream",
     "text": [
      "accuracy_score:  0.8660714285714286\n",
      "[[121   8   0   8   3   0   0   0   0   0   0   0]\n",
      " [  2 110   5   0  23   0   0   0   0   0   0   0]\n",
      " [ 16   2 107  15   0   0   0   0   0   0   0   0]\n",
      " [ 39   0  23  55  15   1   0   0   0   0   0   7]\n",
      " [  3   9   0   3 117   5   0   0   0   0   3   0]\n",
      " [  0   0   3   0   0 136   0   0   0   0   0   1]\n",
      " [  0   0   0   0   0   1 139   0   0   0   0   0]\n",
      " [  0   0   0   0   0   0  16 119   5   0   0   0]\n",
      " [  1   0   0   0   0   0   0   0 139   0   0   0]\n",
      " [  0   0   0   0   0   0   0   0   1 139   0   0]\n",
      " [  1   0   0   0   0   0   0   0   0   0 139   0]\n",
      " [  3   0   2   0   0   0   0   0   0   0   1 134]]\n",
      "              precision    recall  f1-score   support\n",
      "\n",
      "           1       0.65      0.86      0.74       140\n",
      "           2       0.85      0.79      0.82       140\n",
      "           3       0.76      0.76      0.76       140\n",
      "           4       0.68      0.39      0.50       140\n",
      "           5       0.74      0.84      0.79       140\n",
      "           6       0.95      0.97      0.96       140\n",
      "           7       0.90      0.99      0.94       140\n",
      "           8       1.00      0.85      0.92       140\n",
      "           9       0.96      0.99      0.98       140\n",
      "          10       1.00      0.99      1.00       140\n",
      "          11       0.97      0.99      0.98       140\n",
      "          12       0.94      0.96      0.95       140\n",
      "\n",
      "   micro avg       0.87      0.87      0.87      1680\n",
      "   macro avg       0.87      0.87      0.86      1680\n",
      "weighted avg       0.87      0.87      0.86      1680\n",
      "\n"
     ]
    }
   ],
   "source": [
    "clf = LogisticRegression()\n",
    "clf.fit(X_train,y_train)\n",
    "predict = clf.predict(X_test)\n",
    "print('accuracy_score: ', accuracy_score(y_test,predict))\n",
    "print(confusion_matrix(y_test,predict))\n",
    "print(classification_report(y_test,predict))"
   ]
  },
  {
   "cell_type": "code",
   "execution_count": 47,
   "metadata": {},
   "outputs": [
    {
     "name": "stdout",
     "output_type": "stream",
     "text": [
      "accuracy_score:  0.975\n",
      "[[136   1   2   0   0   0   0   0   0   0   0   1]\n",
      " [  3 137   0   0   0   0   0   0   0   0   0   0]\n",
      " [  1   3 131   5   0   0   0   0   0   0   0   0]\n",
      " [  0   1   4 132   2   1   0   0   0   0   0   0]\n",
      " [  0   0   1   6 133   0   0   0   0   0   0   0]\n",
      " [  0   0   0   0   0 140   0   0   0   0   0   0]\n",
      " [  0   0   0   0   0   0 140   0   0   0   0   0]\n",
      " [  0   0   0   0   0   0   0 140   0   0   0   0]\n",
      " [  0   0   0   0   0   0   0   0 140   0   0   0]\n",
      " [  1   0   0   2   2   0   0   0   0 135   0   0]\n",
      " [  0   1   0   0   1   0   0   0   0   0 138   0]\n",
      " [  2   0   0   0   0   0   0   0   0   0   2 136]]\n",
      "              precision    recall  f1-score   support\n",
      "\n",
      "           1       0.95      0.97      0.96       140\n",
      "           2       0.96      0.98      0.97       140\n",
      "           3       0.95      0.94      0.94       140\n",
      "           4       0.91      0.94      0.93       140\n",
      "           5       0.96      0.95      0.96       140\n",
      "           6       0.99      1.00      1.00       140\n",
      "           7       1.00      1.00      1.00       140\n",
      "           8       1.00      1.00      1.00       140\n",
      "           9       1.00      1.00      1.00       140\n",
      "          10       1.00      0.96      0.98       140\n",
      "          11       0.99      0.99      0.99       140\n",
      "          12       0.99      0.97      0.98       140\n",
      "\n",
      "   micro avg       0.97      0.97      0.97      1680\n",
      "   macro avg       0.98      0.97      0.98      1680\n",
      "weighted avg       0.98      0.97      0.98      1680\n",
      "\n"
     ]
    }
   ],
   "source": [
    "clf = XGBClassifier(n_estimators=1000)\n",
    "clf.fit(X_train,y_train)\n",
    "predict = clf.predict(X_test)\n",
    "print('accuracy_score: ', accuracy_score(y_test,predict))\n",
    "print(confusion_matrix(y_test,predict))\n",
    "print(classification_report(y_test,predict))"
   ]
  },
  {
   "cell_type": "code",
   "execution_count": 49,
   "metadata": {},
   "outputs": [
    {
     "data": {
      "image/png": "[encoded data removed]",
      "text/plain": [
       "<Figure size 576x453.6 with 1 Axes>"
      ]
     },
     "metadata": {},
     "output_type": "display_data"
    }
   ],
   "source": [
    "explainer = shap.TreeExplainer(clf)\n",
    "shap_values = explainer.shap_values(X_test)\n",
    "shap.summary_plot(shap_values, X_test, plot_type = \"bar\")"
   ]
  }
 ],
 "metadata": {
  "kernelspec": {
   "display_name": "Python 3",
   "language": "python",
   "name": "python3"
  },
  "language_info": {
   "codemirror_mode": {
    "name": "ipython",
    "version": 3
   },
   "file_extension": ".py",
   "mimetype": "text/x-python",
   "name": "python",
   "nbconvert_exporter": "python",
   "pygments_lexer": "ipython3",
   "version": "3.6.5"
  }
 },
 "nbformat": 4,
 "nbformat_minor": 2
}
